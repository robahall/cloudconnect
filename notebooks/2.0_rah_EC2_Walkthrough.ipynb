{
 "cells": [
  {
   "cell_type": "code",
   "execution_count": 8,
   "metadata": {},
   "outputs": [],
   "source": [
    "parsed = json.loads(response)import boto3\n",
    "import json"
   ]
  },
  {
   "cell_type": "code",
   "execution_count": 9,
   "metadata": {},
   "outputs": [],
   "source": [
    "ec2 = boto3.client('ec2')"
   ]
  },
  {
   "cell_type": "code",
   "execution_count": 10,
   "metadata": {},
   "outputs": [],
   "source": [
    "response = ec2.describe_instances()"
   ]
  },
  {
   "cell_type": "code",
   "execution_count": 14,
   "metadata": {},
   "outputs": [
    {
     "data": {
      "text/plain": [
       "dict"
      ]
     },
     "execution_count": 14,
     "metadata": {},
     "output_type": "execute_result"
    }
   ],
   "source": [
    "type(response)"
   ]
  },
  {
   "cell_type": "code",
   "execution_count": 15,
   "metadata": {},
   "outputs": [
    {
     "data": {
      "text/plain": [
       "{'Reservations': [{'Groups': [],\n",
       "   'Instances': [{'AmiLaunchIndex': 0,\n",
       "     'ImageId': 'ami-0ac019f4fcb7cb7e6',\n",
       "     'InstanceId': 'i-0686ab4cc39195755',\n",
       "     'InstanceType': 'p2.xlarge',\n",
       "     'KeyName': 'id_rsa',\n",
       "     'LaunchTime': datetime.datetime(2019, 2, 28, 17, 24, 57, tzinfo=tzutc()),\n",
       "     'Monitoring': {'State': 'disabled'},\n",
       "     'Placement': {'AvailabilityZone': 'us-east-1c',\n",
       "      'GroupName': '',\n",
       "      'Tenancy': 'default'},\n",
       "     'PrivateDnsName': 'ip-172-31-16-144.ec2.internal',\n",
       "     'PrivateIpAddress': '172.31.16.144',\n",
       "     'ProductCodes': [],\n",
       "     'PublicDnsName': '',\n",
       "     'State': {'Code': 80, 'Name': 'stopped'},\n",
       "     'StateTransitionReason': 'User initiated (2019-02-28 21:36:39 GMT)',\n",
       "     'SubnetId': 'subnet-c2346388',\n",
       "     'VpcId': 'vpc-5556862f',\n",
       "     'Architecture': 'x86_64',\n",
       "     'BlockDeviceMappings': [{'DeviceName': '/dev/sda1',\n",
       "       'Ebs': {'AttachTime': datetime.datetime(2019, 2, 6, 17, 22, 12, tzinfo=tzutc()),\n",
       "        'DeleteOnTermination': True,\n",
       "        'Status': 'attached',\n",
       "        'VolumeId': 'vol-058fbb1b19b89337b'}}],\n",
       "     'ClientToken': '',\n",
       "     'EbsOptimized': False,\n",
       "     'EnaSupport': True,\n",
       "     'Hypervisor': 'xen',\n",
       "     'IamInstanceProfile': {'Arn': 'arn:aws:iam::092209880639:instance-profile/S3-Admin-Access',\n",
       "      'Id': 'AIPAJL6AAJO5G5FASWIP6'},\n",
       "     'NetworkInterfaces': [{'Attachment': {'AttachTime': datetime.datetime(2019, 2, 6, 17, 22, 11, tzinfo=tzutc()),\n",
       "        'AttachmentId': 'eni-attach-0517e91ac5ece2505',\n",
       "        'DeleteOnTermination': True,\n",
       "        'DeviceIndex': 0,\n",
       "        'Status': 'attached'},\n",
       "       'Description': '',\n",
       "       'Groups': [{'GroupName': 'launch-wizard-4',\n",
       "         'GroupId': 'sg-02d0e647000d2c6dd'}],\n",
       "       'Ipv6Addresses': [],\n",
       "       'MacAddress': '0a:74:a5:52:d8:46',\n",
       "       'NetworkInterfaceId': 'eni-0ea3bbbb845149daa',\n",
       "       'OwnerId': '092209880639',\n",
       "       'PrivateDnsName': 'ip-172-31-16-144.ec2.internal',\n",
       "       'PrivateIpAddress': '172.31.16.144',\n",
       "       'PrivateIpAddresses': [{'Primary': True,\n",
       "         'PrivateDnsName': 'ip-172-31-16-144.ec2.internal',\n",
       "         'PrivateIpAddress': '172.31.16.144'}],\n",
       "       'SourceDestCheck': True,\n",
       "       'Status': 'in-use',\n",
       "       'SubnetId': 'subnet-c2346388',\n",
       "       'VpcId': 'vpc-5556862f'}],\n",
       "     'RootDeviceName': '/dev/sda1',\n",
       "     'RootDeviceType': 'ebs',\n",
       "     'SecurityGroups': [{'GroupName': 'launch-wizard-4',\n",
       "       'GroupId': 'sg-02d0e647000d2c6dd'}],\n",
       "     'SourceDestCheck': True,\n",
       "     'StateReason': {'Code': 'Client.UserInitiatedShutdown',\n",
       "      'Message': 'Client.UserInitiatedShutdown: User initiated shutdown'},\n",
       "     'Tags': [{'Key': 'Name', 'Value': 'fastai_DL'}],\n",
       "     'VirtualizationType': 'hvm',\n",
       "     'CpuOptions': {'CoreCount': 2, 'ThreadsPerCore': 2},\n",
       "     'CapacityReservationSpecification': {'CapacityReservationPreference': 'open'},\n",
       "     'HibernationOptions': {'Configured': False}}],\n",
       "   'OwnerId': '092209880639',\n",
       "   'ReservationId': 'r-07a913b4912f90386'}],\n",
       " 'ResponseMetadata': {'RequestId': '422bbb1c-d03f-4b25-abd3-f5950a74903b',\n",
       "  'HTTPStatusCode': 200,\n",
       "  'HTTPHeaders': {'content-type': 'text/xml;charset=UTF-8',\n",
       "   'content-length': '6430',\n",
       "   'vary': 'accept-encoding',\n",
       "   'date': 'Sun, 21 Apr 2019 00:25:53 GMT',\n",
       "   'server': 'AmazonEC2'},\n",
       "  'RetryAttempts': 0}}"
      ]
     },
     "execution_count": 15,
     "metadata": {},
     "output_type": "execute_result"
    }
   ],
   "source": [
    "response"
   ]
  },
  {
   "cell_type": "code",
   "execution_count": 13,
   "metadata": {},
   "outputs": [
    {
     "ename": "NameError",
     "evalue": "name 'parsed' is not defined",
     "output_type": "error",
     "traceback": [
      "\u001b[0;31m---------------------------------------------------------------------------\u001b[0m",
      "\u001b[0;31mNameError\u001b[0m                                 Traceback (most recent call last)",
      "\u001b[0;32m<ipython-input-13-8d83e3fafb10>\u001b[0m in \u001b[0;36m<module>\u001b[0;34m\u001b[0m\n\u001b[0;32m----> 1\u001b[0;31m \u001b[0mprint\u001b[0m\u001b[0;34m(\u001b[0m\u001b[0mjson\u001b[0m\u001b[0;34m.\u001b[0m\u001b[0mdumps\u001b[0m\u001b[0;34m(\u001b[0m\u001b[0mparsed\u001b[0m\u001b[0;34m,\u001b[0m \u001b[0mindent\u001b[0m\u001b[0;34m=\u001b[0m\u001b[0;36m4\u001b[0m\u001b[0;34m,\u001b[0m \u001b[0msort_keys\u001b[0m\u001b[0;34m=\u001b[0m\u001b[0;32mTrue\u001b[0m\u001b[0;34m)\u001b[0m\u001b[0;34m)\u001b[0m\u001b[0;34m\u001b[0m\u001b[0;34m\u001b[0m\u001b[0m\n\u001b[0m",
      "\u001b[0;31mNameError\u001b[0m: name 'parsed' is not defined"
     ]
    }
   ],
   "source": [
    "print(json.dumps(parsed, indent=4, sort_keys=True))"
   ]
  },
  {
   "cell_type": "code",
   "execution_count": null,
   "metadata": {},
   "outputs": [],
   "source": []
  }
 ],
 "metadata": {
  "kernelspec": {
   "display_name": "Python 3",
   "language": "python",
   "name": "python3"
  },
  "language_info": {
   "codemirror_mode": {
    "name": "ipython",
    "version": 3
   },
   "file_extension": ".py",
   "mimetype": "text/x-python",
   "name": "python",
   "nbconvert_exporter": "python",
   "pygments_lexer": "ipython3",
   "version": "3.7.3"
  }
 },
 "nbformat": 4,
 "nbformat_minor": 2
}
