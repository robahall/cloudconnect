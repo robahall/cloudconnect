{
 "cells": [
  {
   "cell_type": "code",
   "execution_count": 8,
   "metadata": {},
   "outputs": [],
   "source": [
    "parsed = json.loads(response)import boto3\n",
    "import json"
   ]
  },
  {
   "cell_type": "code",
   "execution_count": 9,
   "metadata": {},
   "outputs": [],
   "source": [
    "ec2 = boto3.client('ec2')"
   ]
  },
  {
   "cell_type": "code",
   "execution_count": 10,
   "metadata": {},
   "outputs": [],
   "source": [
    "response = ec2.describe_instances()"
   ]
  },
  {
   "cell_type": "code",
   "execution_count": 19,
   "metadata": {},
   "outputs": [
    {
     "data": {
      "text/plain": [
       "[{'Groups': [],\n",
       "  'Instances': [{'AmiLaunchIndex': 0,\n",
       "    'ImageId': 'ami-0ac019f4fcb7cb7e6',\n",
       "    'InstanceId': 'i-0686ab4cc39195755',\n",
       "    'InstanceType': 'p2.xlarge',\n",
       "    'KeyName': 'id_rsa',\n",
       "    'LaunchTime': datetime.datetime(2019, 2, 28, 17, 24, 57, tzinfo=tzutc()),\n",
       "    'Monitoring': {'State': 'disabled'},\n",
       "    'Placement': {'AvailabilityZone': 'us-east-1c',\n",
       "     'GroupName': '',\n",
       "     'Tenancy': 'default'},\n",
       "    'PrivateDnsName': 'ip-172-31-16-144.ec2.internal',\n",
       "    'PrivateIpAddress': '172.31.16.144',\n",
       "    'ProductCodes': [],\n",
       "    'PublicDnsName': '',\n",
       "    'State': {'Code': 80, 'Name': 'stopped'},\n",
       "    'StateTransitionReason': 'User initiated (2019-02-28 21:36:39 GMT)',\n",
       "    'SubnetId': 'subnet-c2346388',\n",
       "    'VpcId': 'vpc-5556862f',\n",
       "    'Architecture': 'x86_64',\n",
       "    'BlockDeviceMappings': [{'DeviceName': '/dev/sda1',\n",
       "      'Ebs': {'AttachTime': datetime.datetime(2019, 2, 6, 17, 22, 12, tzinfo=tzutc()),\n",
       "       'DeleteOnTermination': True,\n",
       "       'Status': 'attached',\n",
       "       'VolumeId': 'vol-058fbb1b19b89337b'}}],\n",
       "    'ClientToken': '',\n",
       "    'EbsOptimized': False,\n",
       "    'EnaSupport': True,\n",
       "    'Hypervisor': 'xen',\n",
       "    'IamInstanceProfile': {'Arn': 'arn:aws:iam::092209880639:instance-profile/S3-Admin-Access',\n",
       "     'Id': 'AIPAJL6AAJO5G5FASWIP6'},\n",
       "    'NetworkInterfaces': [{'Attachment': {'AttachTime': datetime.datetime(2019, 2, 6, 17, 22, 11, tzinfo=tzutc()),\n",
       "       'AttachmentId': 'eni-attach-0517e91ac5ece2505',\n",
       "       'DeleteOnTermination': True,\n",
       "       'DeviceIndex': 0,\n",
       "       'Status': 'attached'},\n",
       "      'Description': '',\n",
       "      'Groups': [{'GroupName': 'launch-wizard-4',\n",
       "        'GroupId': 'sg-02d0e647000d2c6dd'}],\n",
       "      'Ipv6Addresses': [],\n",
       "      'MacAddress': '0a:74:a5:52:d8:46',\n",
       "      'NetworkInterfaceId': 'eni-0ea3bbbb845149daa',\n",
       "      'OwnerId': '092209880639',\n",
       "      'PrivateDnsName': 'ip-172-31-16-144.ec2.internal',\n",
       "      'PrivateIpAddress': '172.31.16.144',\n",
       "      'PrivateIpAddresses': [{'Primary': True,\n",
       "        'PrivateDnsName': 'ip-172-31-16-144.ec2.internal',\n",
       "        'PrivateIpAddress': '172.31.16.144'}],\n",
       "      'SourceDestCheck': True,\n",
       "      'Status': 'in-use',\n",
       "      'SubnetId': 'subnet-c2346388',\n",
       "      'VpcId': 'vpc-5556862f'}],\n",
       "    'RootDeviceName': '/dev/sda1',\n",
       "    'RootDeviceType': 'ebs',\n",
       "    'SecurityGroups': [{'GroupName': 'launch-wizard-4',\n",
       "      'GroupId': 'sg-02d0e647000d2c6dd'}],\n",
       "    'SourceDestCheck': True,\n",
       "    'StateReason': {'Code': 'Client.UserInitiatedShutdown',\n",
       "     'Message': 'Client.UserInitiatedShutdown: User initiated shutdown'},\n",
       "    'Tags': [{'Key': 'Name', 'Value': 'fastai_DL'}],\n",
       "    'VirtualizationType': 'hvm',\n",
       "    'CpuOptions': {'CoreCount': 2, 'ThreadsPerCore': 2},\n",
       "    'CapacityReservationSpecification': {'CapacityReservationPreference': 'open'},\n",
       "    'HibernationOptions': {'Configured': False}}],\n",
       "  'OwnerId': '092209880639',\n",
       "  'ReservationId': 'r-07a913b4912f90386'}]"
      ]
     },
     "execution_count": 19,
     "metadata": {},
     "output_type": "execute_result"
    }
   ],
   "source": [
    "response['Reservations']"
   ]
  },
  {
   "cell_type": "code",
   "execution_count": 20,
   "metadata": {},
   "outputs": [],
   "source": [
    "## Monitor and Unmonitor Instances"
   ]
  },
  {
   "cell_type": "code",
   "execution_count": 22,
   "metadata": {},
   "outputs": [],
   "source": [
    "import sys"
   ]
  },
  {
   "cell_type": "code",
   "execution_count": 21,
   "metadata": {},
   "outputs": [],
   "source": [
    "ec2 = boto3.client('ec2')"
   ]
  },
  {
   "cell_type": "code",
   "execution_count": 30,
   "metadata": {},
   "outputs": [
    {
     "ename": "ClientError",
     "evalue": "An error occurred (InvalidParameterValue) when calling the UnmonitorInstances operation: Value (INSTANCE_ID) for parameter instanceId is invalid. Expected: 'i-...'.",
     "output_type": "error",
     "traceback": [
      "\u001b[0;31m---------------------------------------------------------------------------\u001b[0m",
      "\u001b[0;31mClientError\u001b[0m                               Traceback (most recent call last)",
      "\u001b[0;32m<ipython-input-30-bc1cad50e569>\u001b[0m in \u001b[0;36m<module>\u001b[0;34m\u001b[0m\n\u001b[1;32m      3\u001b[0m \u001b[0;32melse\u001b[0m\u001b[0;34m:\u001b[0m\u001b[0;34m\u001b[0m\u001b[0;34m\u001b[0m\u001b[0m\n\u001b[1;32m      4\u001b[0m     response = ec2.unmonitor_instances(InstanceIds=['INSTANCE_ID'],\n\u001b[0;32m----> 5\u001b[0;31m     DryRun=False)\n\u001b[0m\u001b[1;32m      6\u001b[0m \u001b[0mprint\u001b[0m\u001b[0;34m(\u001b[0m\u001b[0mresponse\u001b[0m\u001b[0;34m)\u001b[0m\u001b[0;34m\u001b[0m\u001b[0;34m\u001b[0m\u001b[0m\n",
      "\u001b[0;32m~/anaconda3/envs/cloudconnect/lib/python3.7/site-packages/botocore/client.py\u001b[0m in \u001b[0;36m_api_call\u001b[0;34m(self, *args, **kwargs)\u001b[0m\n\u001b[1;32m    355\u001b[0m                     \"%s() only accepts keyword arguments.\" % py_operation_name)\n\u001b[1;32m    356\u001b[0m             \u001b[0;31m# The \"self\" in this scope is referring to the BaseClient.\u001b[0m\u001b[0;34m\u001b[0m\u001b[0;34m\u001b[0m\u001b[0;34m\u001b[0m\u001b[0m\n\u001b[0;32m--> 357\u001b[0;31m             \u001b[0;32mreturn\u001b[0m \u001b[0mself\u001b[0m\u001b[0;34m.\u001b[0m\u001b[0m_make_api_call\u001b[0m\u001b[0;34m(\u001b[0m\u001b[0moperation_name\u001b[0m\u001b[0;34m,\u001b[0m \u001b[0mkwargs\u001b[0m\u001b[0;34m)\u001b[0m\u001b[0;34m\u001b[0m\u001b[0;34m\u001b[0m\u001b[0m\n\u001b[0m\u001b[1;32m    358\u001b[0m \u001b[0;34m\u001b[0m\u001b[0m\n\u001b[1;32m    359\u001b[0m         \u001b[0m_api_call\u001b[0m\u001b[0;34m.\u001b[0m\u001b[0m__name__\u001b[0m \u001b[0;34m=\u001b[0m \u001b[0mstr\u001b[0m\u001b[0;34m(\u001b[0m\u001b[0mpy_operation_name\u001b[0m\u001b[0;34m)\u001b[0m\u001b[0;34m\u001b[0m\u001b[0;34m\u001b[0m\u001b[0m\n",
      "\u001b[0;32m~/anaconda3/envs/cloudconnect/lib/python3.7/site-packages/botocore/client.py\u001b[0m in \u001b[0;36m_make_api_call\u001b[0;34m(self, operation_name, api_params)\u001b[0m\n\u001b[1;32m    659\u001b[0m             \u001b[0merror_code\u001b[0m \u001b[0;34m=\u001b[0m \u001b[0mparsed_response\u001b[0m\u001b[0;34m.\u001b[0m\u001b[0mget\u001b[0m\u001b[0;34m(\u001b[0m\u001b[0;34m\"Error\"\u001b[0m\u001b[0;34m,\u001b[0m \u001b[0;34m{\u001b[0m\u001b[0;34m}\u001b[0m\u001b[0;34m)\u001b[0m\u001b[0;34m.\u001b[0m\u001b[0mget\u001b[0m\u001b[0;34m(\u001b[0m\u001b[0;34m\"Code\"\u001b[0m\u001b[0;34m)\u001b[0m\u001b[0;34m\u001b[0m\u001b[0;34m\u001b[0m\u001b[0m\n\u001b[1;32m    660\u001b[0m             \u001b[0merror_class\u001b[0m \u001b[0;34m=\u001b[0m \u001b[0mself\u001b[0m\u001b[0;34m.\u001b[0m\u001b[0mexceptions\u001b[0m\u001b[0;34m.\u001b[0m\u001b[0mfrom_code\u001b[0m\u001b[0;34m(\u001b[0m\u001b[0merror_code\u001b[0m\u001b[0;34m)\u001b[0m\u001b[0;34m\u001b[0m\u001b[0;34m\u001b[0m\u001b[0m\n\u001b[0;32m--> 661\u001b[0;31m             \u001b[0;32mraise\u001b[0m \u001b[0merror_class\u001b[0m\u001b[0;34m(\u001b[0m\u001b[0mparsed_response\u001b[0m\u001b[0;34m,\u001b[0m \u001b[0moperation_name\u001b[0m\u001b[0;34m)\u001b[0m\u001b[0;34m\u001b[0m\u001b[0;34m\u001b[0m\u001b[0m\n\u001b[0m\u001b[1;32m    662\u001b[0m         \u001b[0;32melse\u001b[0m\u001b[0;34m:\u001b[0m\u001b[0;34m\u001b[0m\u001b[0;34m\u001b[0m\u001b[0m\n\u001b[1;32m    663\u001b[0m             \u001b[0;32mreturn\u001b[0m \u001b[0mparsed_response\u001b[0m\u001b[0;34m\u001b[0m\u001b[0;34m\u001b[0m\u001b[0m\n",
      "\u001b[0;31mClientError\u001b[0m: An error occurred (InvalidParameterValue) when calling the UnmonitorInstances operation: Value (INSTANCE_ID) for parameter instanceId is invalid. Expected: 'i-...'."
     ]
    }
   ],
   "source": [
    "if sys.argv[1] == 'ON':\n",
    "    response = ec2.monitor_instances(InstanceIds=['INSTANCE_ID'])\n",
    "else:\n",
    "    response = ec2.unmonitor_instances(InstanceIds=['INSTANCE_ID'],\n",
    "    DryRun=False)\n",
    "print(response)"
   ]
  },
  {
   "cell_type": "code",
   "execution_count": null,
   "metadata": {},
   "outputs": [],
   "source": []
  }
 ],
 "metadata": {
  "kernelspec": {
   "display_name": "Python 3",
   "language": "python",
   "name": "python3"
  },
  "language_info": {
   "codemirror_mode": {
    "name": "ipython",
    "version": 3
   },
   "file_extension": ".py",
   "mimetype": "text/x-python",
   "name": "python",
   "nbconvert_exporter": "python",
   "pygments_lexer": "ipython3",
   "version": "3.7.3"
  }
 },
 "nbformat": 4,
 "nbformat_minor": 2
}
